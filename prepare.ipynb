{
 "cells": [
  {
   "cell_type": "code",
   "execution_count": null,
   "id": "0005fc59",
   "metadata": {},
   "outputs": [],
   "source": [
    "def solution(inputString):\n",
    "    rev = reversed(inputString)\n",
    "    if list(rev) == list(inputString):\n",
    "        print(list(rev))\n",
    "        print(list(inputString))\n",
    "        return True\n",
    "    return False"
   ]
  },
  {
   "cell_type": "code",
   "execution_count": 13,
   "id": "484a0ac2",
   "metadata": {},
   "outputs": [
    {
     "name": "stdout",
     "output_type": "stream",
     "text": [
      "<reversed object at 0x7ff570452cd0>\n",
      "[]\n",
      "['a', 'a', 'b', 'a', 'a']\n"
     ]
    },
    {
     "data": {
      "text/plain": [
       "True"
      ]
     },
     "execution_count": 13,
     "metadata": {},
     "output_type": "execute_result"
    }
   ],
   "source": [
    "solution(\"aabaa\") "
   ]
  },
  {
   "cell_type": "code",
   "execution_count": 14,
   "id": "2803f42c",
   "metadata": {},
   "outputs": [],
   "source": [
    "def solution(inputArray):\n",
    "    previous = inputArray[0]\n",
    "    product = previous * inputArray[1]\n",
    "    for i in inputArray[1:]:\n",
    "        if previous * i > product:\n",
    "            product = previous * i\n",
    "        previous = i\n",
    "    return product"
   ]
  },
  {
   "cell_type": "code",
   "execution_count": 15,
   "id": "bd8d0f64",
   "metadata": {},
   "outputs": [],
   "source": [
    "inputArray = [3, 6, -2, -5, 7, 3]"
   ]
  },
  {
   "cell_type": "code",
   "execution_count": 16,
   "id": "2d292056",
   "metadata": {},
   "outputs": [
    {
     "data": {
      "text/plain": [
       "21"
      ]
     },
     "execution_count": 16,
     "metadata": {},
     "output_type": "execute_result"
    }
   ],
   "source": [
    "solution(inputArray)"
   ]
  },
  {
   "cell_type": "code",
   "execution_count": 17,
   "id": "dc752540",
   "metadata": {},
   "outputs": [],
   "source": [
    "def solution(n):\n",
    "    if n > 10 ** 4 or n < 1:\n",
    "        return False\n",
    "    return (n ** 2 + (n - 1) ** 2)"
   ]
  },
  {
   "cell_type": "code",
   "execution_count": 33,
   "id": "416c6d8d",
   "metadata": {},
   "outputs": [],
   "source": [
    "def solution(statues):\n",
    "    statues.sort()\n",
    "    missing = 0\n",
    "    print(len(statues))\n",
    "    for i in range(len(statues) - 1):\n",
    "        missing += statues[i + 1] - statues[i] - 1\n",
    "        print(missing)\n",
    "    else:\n",
    "        return missing"
   ]
  },
  {
   "cell_type": "code",
   "execution_count": 34,
   "id": "9c010276",
   "metadata": {},
   "outputs": [],
   "source": [
    "statues = [6, 2, 3, 8]"
   ]
  },
  {
   "cell_type": "code",
   "execution_count": 35,
   "id": "8d1c28d3",
   "metadata": {},
   "outputs": [
    {
     "name": "stdout",
     "output_type": "stream",
     "text": [
      "4\n",
      "0\n",
      "2\n",
      "3\n"
     ]
    },
    {
     "data": {
      "text/plain": [
       "3"
      ]
     },
     "execution_count": 35,
     "metadata": {},
     "output_type": "execute_result"
    }
   ],
   "source": [
    "solution(statues)"
   ]
  },
  {
   "cell_type": "code",
   "execution_count": 40,
   "id": "f88fad18",
   "metadata": {},
   "outputs": [],
   "source": [
    "def solution(sequence):\n",
    "    dropped = False\n",
    "    last = prev = min(sequence)-1\n",
    "    for elm in sequence:\n",
    "        if elm <= last:\n",
    "            if dropped:\n",
    "                return False\n",
    "            else:\n",
    "                dropped = True\n",
    "            if elm <= prev:\n",
    "                prev = last\n",
    "            elif elm >= prev:\n",
    "                prev = last = elm\n",
    "        else:\n",
    "            prev, last = last, elm\n",
    "    return True"
   ]
  },
  {
   "cell_type": "code",
   "execution_count": 41,
   "id": "9f947fef",
   "metadata": {},
   "outputs": [],
   "source": [
    "sequence = [1, 3, 2, 1]"
   ]
  },
  {
   "cell_type": "code",
   "execution_count": 42,
   "id": "d7f7e6ca",
   "metadata": {},
   "outputs": [
    {
     "data": {
      "text/plain": [
       "False"
      ]
     },
     "execution_count": 42,
     "metadata": {},
     "output_type": "execute_result"
    }
   ],
   "source": [
    "solution(sequence)"
   ]
  },
  {
   "cell_type": "code",
   "execution_count": 52,
   "id": "251b41ac",
   "metadata": {},
   "outputs": [],
   "source": [
    "def solution(matrix):\n",
    "    total = 0;\n",
    "    for j in range(len(matrix[0])):\n",
    "        for i in range(len(matrix)):\n",
    "            print(matrix[i][j])\n",
    "            if( matrix[i][j] == 0):\n",
    "                break\n",
    "            else:\n",
    "                total += matrix[i][j]\n",
    "    else:\n",
    "        return total"
   ]
  },
  {
   "cell_type": "code",
   "execution_count": 53,
   "id": "f51ca17c",
   "metadata": {},
   "outputs": [],
   "source": [
    "matrix = [[1, 1, 1, 0], \n",
    "          [0, 5, 0, 1], \n",
    "          [2, 1, 3, 10]]"
   ]
  },
  {
   "cell_type": "code",
   "execution_count": 54,
   "id": "edb30c7d",
   "metadata": {},
   "outputs": [
    {
     "name": "stdout",
     "output_type": "stream",
     "text": [
      "1\n",
      "0\n",
      "1\n",
      "5\n",
      "1\n",
      "1\n",
      "0\n",
      "0\n"
     ]
    },
    {
     "data": {
      "text/plain": [
       "9"
      ]
     },
     "execution_count": 54,
     "metadata": {},
     "output_type": "execute_result"
    }
   ],
   "source": [
    "solution(matrix)"
   ]
  },
  {
   "cell_type": "code",
   "execution_count": 69,
   "id": "1c692d06",
   "metadata": {},
   "outputs": [],
   "source": [
    "def solution(s1, s2):\n",
    "    com = [min(s1.count(i),s2.count(i)) for i in set(s1)]\n",
    "    return sum(com)"
   ]
  },
  {
   "cell_type": "code",
   "execution_count": 70,
   "id": "88ce508a",
   "metadata": {},
   "outputs": [],
   "source": [
    "s1 = \"aabcc\"\n",
    "s2 = \"adcaa\""
   ]
  },
  {
   "cell_type": "code",
   "execution_count": 71,
   "id": "ccc0a5ef",
   "metadata": {},
   "outputs": [
    {
     "data": {
      "text/plain": [
       "3"
      ]
     },
     "execution_count": 71,
     "metadata": {},
     "output_type": "execute_result"
    }
   ],
   "source": [
    "solution(s1, s2)"
   ]
  },
  {
   "cell_type": "code",
   "execution_count": 64,
   "id": "f00cbee5",
   "metadata": {},
   "outputs": [],
   "source": [
    "#>>> seq = ['one', 'two', 'three']\n",
    "#>>> for i, element in enumerate(seq):\n",
    "#...     print i, element\n",
    "#0 one\n",
    "#1 two\n",
    "#2 three"
   ]
  },
  {
   "cell_type": "code",
   "execution_count": 65,
   "id": "ebef6c82",
   "metadata": {},
   "outputs": [
    {
     "name": "stdout",
     "output_type": "stream",
     "text": [
      "Dictionary before conversion is:{4: 'geeks', 1: 'for', 3: 'geeks'}\n",
      "Dictionary afer conversion is:{1, 3, 4}\n"
     ]
    }
   ],
   "source": [
    "# Python3 code to demonstrate the  \n",
    "# working of set() on dictionary \n",
    "  \n",
    "# initializing list  \n",
    "dic1 = { 4 :'geeks', 1 :'for', 3 :'geeks' }  \n",
    "  \n",
    "# Printing dictionary before conversion \n",
    "# internaly sorted \n",
    "print(\"Dictionary before conversion is:\" + str(dic1)) \n",
    "  \n",
    "# Dictionary after conversion are  \n",
    "# notice lost keys \n",
    "print(\"Dictionary afer conversion is:\" + str(set(dic1)))"
   ]
  },
  {
   "cell_type": "code",
   "execution_count": 83,
   "id": "d538344b",
   "metadata": {},
   "outputs": [],
   "source": [
    "def solution(s1, s2):\n",
    "    s1_list = list()\n",
    "    s2_list = list()\n",
    "\n",
    "    for i in s1:\n",
    "        s1_list.append(i)\n",
    "\n",
    "    for i in s2:\n",
    "        s2_list.append(i)\n",
    "\n",
    "\n",
    "    cnt = 0\n",
    "    for i in s1_list:\n",
    "        print(i)\n",
    "        if i in s2_list:\n",
    "            s2_list.remove(i)\n",
    "            cnt += 1\n",
    "    return cnt"
   ]
  },
  {
   "cell_type": "code",
   "execution_count": 84,
   "id": "18d93b36",
   "metadata": {},
   "outputs": [],
   "source": [
    "s1 = \"aabcc\"\n",
    "s2 = \"adcaa\""
   ]
  },
  {
   "cell_type": "code",
   "execution_count": 85,
   "id": "e29909d9",
   "metadata": {},
   "outputs": [
    {
     "name": "stdout",
     "output_type": "stream",
     "text": [
      "a\n",
      "a\n",
      "b\n",
      "c\n",
      "c\n"
     ]
    },
    {
     "data": {
      "text/plain": [
       "3"
      ]
     },
     "execution_count": 85,
     "metadata": {},
     "output_type": "execute_result"
    }
   ],
   "source": [
    "solution(s1, s2)"
   ]
  },
  {
   "cell_type": "code",
   "execution_count": 86,
   "id": "fe23a788",
   "metadata": {},
   "outputs": [],
   "source": [
    "def solution(n):\n",
    "    m = str(n)\n",
    "    count_front = 0\n",
    "    count_rear = 0\n",
    "    for i in range(len(m)//2):\n",
    "        count_front += int(m[i])\n",
    "\n",
    "    for i in range(len(m)//2, len(m)):\n",
    "        count_rear += int(m[i])\n",
    "\n",
    "    return True if count_front==count_rear else False"
   ]
  },
  {
   "cell_type": "code",
   "execution_count": 87,
   "id": "f310fccb",
   "metadata": {},
   "outputs": [],
   "source": [
    "n = 1230"
   ]
  },
  {
   "cell_type": "code",
   "execution_count": 88,
   "id": "037be11f",
   "metadata": {},
   "outputs": [
    {
     "data": {
      "text/plain": [
       "True"
      ]
     },
     "execution_count": 88,
     "metadata": {},
     "output_type": "execute_result"
    }
   ],
   "source": [
    "solution(n)"
   ]
  },
  {
   "cell_type": "code",
   "execution_count": 89,
   "id": "7433eae6",
   "metadata": {},
   "outputs": [],
   "source": [
    "# len cannot apply on int"
   ]
  },
  {
   "cell_type": "code",
   "execution_count": 102,
   "id": "1024a658",
   "metadata": {},
   "outputs": [],
   "source": [
    "def solution(a):\n",
    "    b = [i for i in sorted(a) if i != -1]\n",
    "    j = 0\n",
    "\n",
    "    for i in range(len(a)):\n",
    "        if a[i] != -1:\n",
    "            a[i] = b[j]\n",
    "            j += 1\n",
    "    return a"
   ]
  },
  {
   "cell_type": "code",
   "execution_count": 103,
   "id": "631d504e",
   "metadata": {},
   "outputs": [],
   "source": [
    "a = [-1, 150, 190, 170, -1, -1, 160, 180]"
   ]
  },
  {
   "cell_type": "code",
   "execution_count": 104,
   "id": "4510269a",
   "metadata": {},
   "outputs": [
    {
     "data": {
      "text/plain": [
       "[-1, 150, 160, 170, -1, -1, 180, 190]"
      ]
     },
     "execution_count": 104,
     "metadata": {},
     "output_type": "execute_result"
    }
   ],
   "source": [
    "solution(a)"
   ]
  },
  {
   "cell_type": "code",
   "execution_count": 105,
   "id": "b05d668e",
   "metadata": {},
   "outputs": [],
   "source": [
    "def solution(inputString):\n",
    "    stack = []\n",
    "    for x in inputString:\n",
    "        if x == \")\":\n",
    "            tmp = \"\"\n",
    "            while stack[-1] != \"(\":\n",
    "                tmp += stack.pop()\n",
    "                print(tmp)\n",
    "            stack.pop() # pop the (\n",
    "            print(stack)\n",
    "            for item in tmp:\n",
    "                stack.append(item)\n",
    "                print(stack)\n",
    "        else:\n",
    "            stack.append(x)\n",
    "            print(stack)\n",
    "\n",
    "    return \"\".join(stack)"
   ]
  },
  {
   "cell_type": "code",
   "execution_count": 106,
   "id": "2aed6215",
   "metadata": {},
   "outputs": [],
   "source": [
    "inputString = \"foo(bar)baz(blim)\""
   ]
  },
  {
   "cell_type": "code",
   "execution_count": 107,
   "id": "e3a6f351",
   "metadata": {},
   "outputs": [
    {
     "name": "stdout",
     "output_type": "stream",
     "text": [
      "['f']\n",
      "['f', 'o']\n",
      "['f', 'o', 'o']\n",
      "['f', 'o', 'o', '(']\n",
      "['f', 'o', 'o', '(', 'b']\n",
      "['f', 'o', 'o', '(', 'b', 'a']\n",
      "['f', 'o', 'o', '(', 'b', 'a', 'r']\n",
      "r\n",
      "ra\n",
      "rab\n",
      "['f', 'o', 'o']\n",
      "['f', 'o', 'o', 'r']\n",
      "['f', 'o', 'o', 'r', 'a']\n",
      "['f', 'o', 'o', 'r', 'a', 'b']\n",
      "['f', 'o', 'o', 'r', 'a', 'b', 'b']\n",
      "['f', 'o', 'o', 'r', 'a', 'b', 'b', 'a']\n",
      "['f', 'o', 'o', 'r', 'a', 'b', 'b', 'a', 'z']\n",
      "['f', 'o', 'o', 'r', 'a', 'b', 'b', 'a', 'z', '(']\n",
      "['f', 'o', 'o', 'r', 'a', 'b', 'b', 'a', 'z', '(', 'b']\n",
      "['f', 'o', 'o', 'r', 'a', 'b', 'b', 'a', 'z', '(', 'b', 'l']\n",
      "['f', 'o', 'o', 'r', 'a', 'b', 'b', 'a', 'z', '(', 'b', 'l', 'i']\n",
      "['f', 'o', 'o', 'r', 'a', 'b', 'b', 'a', 'z', '(', 'b', 'l', 'i', 'm']\n",
      "m\n",
      "mi\n",
      "mil\n",
      "milb\n",
      "['f', 'o', 'o', 'r', 'a', 'b', 'b', 'a', 'z']\n",
      "['f', 'o', 'o', 'r', 'a', 'b', 'b', 'a', 'z', 'm']\n",
      "['f', 'o', 'o', 'r', 'a', 'b', 'b', 'a', 'z', 'm', 'i']\n",
      "['f', 'o', 'o', 'r', 'a', 'b', 'b', 'a', 'z', 'm', 'i', 'l']\n",
      "['f', 'o', 'o', 'r', 'a', 'b', 'b', 'a', 'z', 'm', 'i', 'l', 'b']\n"
     ]
    },
    {
     "data": {
      "text/plain": [
       "'foorabbazmilb'"
      ]
     },
     "execution_count": 107,
     "metadata": {},
     "output_type": "execute_result"
    }
   ],
   "source": [
    "solution(inputString)"
   ]
  },
  {
   "cell_type": "code",
   "execution_count": 108,
   "id": "17b81ff8",
   "metadata": {},
   "outputs": [],
   "source": [
    "#join could let the list become a string"
   ]
  },
  {
   "cell_type": "code",
   "execution_count": 116,
   "id": "096f7e89",
   "metadata": {},
   "outputs": [],
   "source": [
    "def solution(picture):\n",
    "    output = []\n",
    "    border = \"\"\n",
    "    for i in range(len(picture[0])+2):\n",
    "        border += \"*\"\n",
    "        print(border)\n",
    "    output.append(border)\n",
    "    for i in range(len(picture)):\n",
    "        output.append(\"*\"+picture[i]+\"*\")\n",
    "        print(output)\n",
    "    output.append(border)\n",
    "    print(output)\n",
    "    \n",
    "    return output"
   ]
  },
  {
   "cell_type": "code",
   "execution_count": 117,
   "id": "e16d7763",
   "metadata": {},
   "outputs": [],
   "source": [
    "picture = [\"abc\",\n",
    "           \"ded\"]"
   ]
  },
  {
   "cell_type": "code",
   "execution_count": 118,
   "id": "b2736903",
   "metadata": {},
   "outputs": [
    {
     "name": "stdout",
     "output_type": "stream",
     "text": [
      "*\n",
      "**\n",
      "***\n",
      "****\n",
      "*****\n",
      "['*****', '*abc*']\n",
      "['*****', '*abc*', '*ded*']\n",
      "['*****', '*abc*', '*ded*', '*****']\n"
     ]
    },
    {
     "data": {
      "text/plain": [
       "['*****', '*abc*', '*ded*', '*****']"
      ]
     },
     "execution_count": 118,
     "metadata": {},
     "output_type": "execute_result"
    }
   ],
   "source": [
    "solution(picture)"
   ]
  },
  {
   "cell_type": "code",
   "execution_count": 139,
   "id": "4311c1be",
   "metadata": {},
   "outputs": [],
   "source": [
    "def solution(a, b):\n",
    "    if a==b:\n",
    "        return True\n",
    "    i = 0\n",
    "    while i<len(a):\n",
    "        if a[i]==b[i]:\n",
    "            a.pop(i)\n",
    "            b.pop(i)\n",
    "        else:\n",
    "            i += 1\n",
    "    if len(a)!=2:\n",
    "        return False\n",
    "    b.reverse()       #len = 2\n",
    "    if a==b:\n",
    "        return True\n",
    "    else:\n",
    "        return False"
   ]
  },
  {
   "cell_type": "code",
   "execution_count": 140,
   "id": "b055ecbf",
   "metadata": {},
   "outputs": [],
   "source": [
    "a = [1, 2, 3, 4]\n",
    "b = [3, 2, 3, 5]"
   ]
  },
  {
   "cell_type": "code",
   "execution_count": 141,
   "id": "cdfe33bd",
   "metadata": {},
   "outputs": [
    {
     "data": {
      "text/plain": [
       "False"
      ]
     },
     "execution_count": 141,
     "metadata": {},
     "output_type": "execute_result"
    }
   ],
   "source": [
    "solution(a, b)"
   ]
  },
  {
   "cell_type": "code",
   "execution_count": 142,
   "id": "3b5a1c7e",
   "metadata": {},
   "outputs": [],
   "source": [
    "#pop could delete by their sequence\n",
    "#remove could delete but have to specify their content"
   ]
  },
  {
   "cell_type": "code",
   "execution_count": 162,
   "id": "3ccf657e",
   "metadata": {},
   "outputs": [],
   "source": [
    "def solution(inputArray):\n",
    "    cnt,temp = 0,0\n",
    "    while len(inputArray) > 1:\n",
    "        if inputArray[0] >= inputArray[1]:\n",
    "            temp = (inputArray[0]-inputArray[1])+1\n",
    "            print(temp)\n",
    "            inputArray[1]=temp+inputArray[1]\n",
    "            print(inputArray[1])\n",
    "            cnt=cnt+temp\n",
    "            print(cnt)\n",
    "        inputArray.remove(inputArray[0])\n",
    "    return cnt"
   ]
  },
  {
   "cell_type": "code",
   "execution_count": 163,
   "id": "a299795c",
   "metadata": {},
   "outputs": [],
   "source": [
    "inputArray = [-1000, 0, -2, 0]"
   ]
  },
  {
   "cell_type": "code",
   "execution_count": 164,
   "id": "bd23d325",
   "metadata": {},
   "outputs": [
    {
     "name": "stdout",
     "output_type": "stream",
     "text": [
      "3\n",
      "1\n",
      "3\n",
      "2\n",
      "2\n",
      "5\n"
     ]
    },
    {
     "data": {
      "text/plain": [
       "5"
      ]
     },
     "execution_count": 164,
     "metadata": {},
     "output_type": "execute_result"
    }
   ],
   "source": [
    "solution(inputArray)"
   ]
  },
  {
   "cell_type": "code",
   "execution_count": 165,
   "id": "ef5d2f76",
   "metadata": {},
   "outputs": [],
   "source": [
    "def solution(inputString):\n",
    "    a = sorted(inputString)[::2]\n",
    "    b = sorted(inputString)[1::2]\n",
    "    return b == a[:len(b)]"
   ]
  },
  {
   "cell_type": "code",
   "execution_count": 166,
   "id": "d406b9b5",
   "metadata": {},
   "outputs": [],
   "source": [
    "inputString = \"aabb\""
   ]
  },
  {
   "cell_type": "code",
   "execution_count": 167,
   "id": "d6c39acd",
   "metadata": {},
   "outputs": [
    {
     "data": {
      "text/plain": [
       "True"
      ]
     },
     "execution_count": 167,
     "metadata": {},
     "output_type": "execute_result"
    }
   ],
   "source": [
    "solution(inputString)"
   ]
  },
  {
   "cell_type": "code",
   "execution_count": 19,
   "id": "aca5c13d",
   "metadata": {},
   "outputs": [],
   "source": [
    "def solution(inputString):\n",
    "    a = sorted(inputString)[::2]\n",
    "    #print(sorted(inputString))\n",
    "    #print(a)\n",
    "    b = sorted(inputString)[1::2]\n",
    "    #print(b)\n",
    "    #print(a[:len(b)])\n",
    "    return b == a[:len(b)]"
   ]
  },
  {
   "cell_type": "code",
   "execution_count": 22,
   "id": "2dfe2696",
   "metadata": {},
   "outputs": [],
   "source": [
    "inputString = \"acdca\""
   ]
  },
  {
   "cell_type": "code",
   "execution_count": 23,
   "id": "c84eccc7",
   "metadata": {},
   "outputs": [
    {
     "name": "stdout",
     "output_type": "stream",
     "text": [
      "['a', 'a', 'c', 'c', 'd']\n",
      "['a', 'c', 'd']\n",
      "['a', 'c']\n",
      "['a', 'c']\n"
     ]
    },
    {
     "data": {
      "text/plain": [
       "True"
      ]
     },
     "execution_count": 23,
     "metadata": {},
     "output_type": "execute_result"
    }
   ],
   "source": [
    "solution(inputString)"
   ]
  },
  {
   "cell_type": "code",
   "execution_count": 33,
   "id": "f61d6290",
   "metadata": {},
   "outputs": [],
   "source": [
    "def solution(inputString):\n",
    "    char_occur = {}\n",
    "    \n",
    "    for c in inputString:\n",
    "        if c not in char_occur:\n",
    "            char_occur[c] = 1\n",
    "        else:\n",
    "            char_occur[c] += 1\n",
    "    print(char_occur)\n",
    "    odd_occ = [l for l in char_occur if char_occur[l] % 2]\n",
    "    print(odd_occ)\n",
    "    if len(odd_occ) > 1:\n",
    "        return False\n",
    "    else:\n",
    "        return True"
   ]
  },
  {
   "cell_type": "code",
   "execution_count": 40,
   "id": "a8785c7f",
   "metadata": {},
   "outputs": [],
   "source": [
    "inputString = \"abgggba\""
   ]
  },
  {
   "cell_type": "code",
   "execution_count": 41,
   "id": "a00cabc4",
   "metadata": {},
   "outputs": [
    {
     "name": "stdout",
     "output_type": "stream",
     "text": [
      "{'a': 2, 'b': 2, 'g': 3}\n",
      "['g']\n"
     ]
    },
    {
     "data": {
      "text/plain": [
       "True"
      ]
     },
     "execution_count": 41,
     "metadata": {},
     "output_type": "execute_result"
    }
   ],
   "source": [
    "solution(inputString)"
   ]
  },
  {
   "cell_type": "code",
   "execution_count": 42,
   "id": "8237d91c",
   "metadata": {},
   "outputs": [],
   "source": [
    "def solution(yourLeft, yourRight, friendsLeft, friendsRight):\n",
    "    if max(yourLeft, yourRight) == max(friendsRight, friendsLeft) and min(yourLeft,                     yourRight) == min(friendsLeft, friendsRight):\n",
    "        return True\n",
    "    else:\n",
    "        return False"
   ]
  },
  {
   "cell_type": "code",
   "execution_count": 44,
   "id": "cca437d0",
   "metadata": {},
   "outputs": [],
   "source": [
    "yourLeft = 10\n",
    "yourRight = 15\n",
    "friendsLeft = 15\n",
    "friendsRight = 10"
   ]
  },
  {
   "cell_type": "code",
   "execution_count": 45,
   "id": "6fa5ad3f",
   "metadata": {},
   "outputs": [
    {
     "data": {
      "text/plain": [
       "True"
      ]
     },
     "execution_count": 45,
     "metadata": {},
     "output_type": "execute_result"
    }
   ],
   "source": [
    "solution(yourLeft, yourRight, friendsLeft, friendsRight)"
   ]
  },
  {
   "cell_type": "code",
   "execution_count": 4,
   "id": "cbcbfd80",
   "metadata": {},
   "outputs": [],
   "source": [
    "def solution(inputArray):\n",
    "    for i in range(len(inputArray)):\n",
    "        if i == 0:\n",
    "            cnt = 0\n",
    "        elif abs(inputArray[i] - inputArray[i-1]) >= cnt:\n",
    "            cnt = abs(inputArray[i] - inputArray[i-1])\n",
    "    return cnt"
   ]
  },
  {
   "cell_type": "code",
   "execution_count": 5,
   "id": "b7ddfde6",
   "metadata": {},
   "outputs": [],
   "source": [
    "inputArray = [2, 4, 1, 0]"
   ]
  },
  {
   "cell_type": "code",
   "execution_count": 6,
   "id": "65c6abb6",
   "metadata": {},
   "outputs": [
    {
     "data": {
      "text/plain": [
       "3"
      ]
     },
     "execution_count": 6,
     "metadata": {},
     "output_type": "execute_result"
    }
   ],
   "source": [
    "solution(inputArray)"
   ]
  },
  {
   "cell_type": "code",
   "execution_count": 1,
   "id": "87b86c09",
   "metadata": {},
   "outputs": [],
   "source": [
    "def solution(inputString):\n",
    "    list_address = list(inputString.split('.'))\n",
    "\n",
    "    if '' in list_address or len(list_address) != 4:\n",
    "        return False\n",
    "\n",
    "    try:\n",
    "\n",
    "        for i in list_address:\n",
    "            if not 0 <= int(i) <= 255:\n",
    "                return False\n",
    "    except ValueError:\n",
    "        return False\n",
    "    except TypeError:\n",
    "        return False\n",
    "    return True"
   ]
  },
  {
   "cell_type": "code",
   "execution_count": 2,
   "id": "5f7510a0",
   "metadata": {},
   "outputs": [],
   "source": [
    "inputString = \"172.00.254.1\""
   ]
  },
  {
   "cell_type": "code",
   "execution_count": 3,
   "id": "2172fb90",
   "metadata": {},
   "outputs": [
    {
     "data": {
      "text/plain": [
       "True"
      ]
     },
     "execution_count": 3,
     "metadata": {},
     "output_type": "execute_result"
    }
   ],
   "source": [
    "solution(inputString)"
   ]
  },
  {
   "cell_type": "code",
   "execution_count": 12,
   "id": "ff6d50e6",
   "metadata": {},
   "outputs": [],
   "source": [
    "def solution(inputString):\n",
    "    l = inputString.split('.')\n",
    "    print(l)\n",
    "    if len(l) != 4:\n",
    "        return False\n",
    "    for i in range(len(l)):\n",
    "        if not l[i].isnumeric():\n",
    "            return False\n",
    "        elif (len(l[i]) > 1) and (l[i][0] == '0'):\n",
    "            return False\n",
    "        elif int(l[i]) not in range(256):\n",
    "            return False\n",
    "    return True"
   ]
  },
  {
   "cell_type": "code",
   "execution_count": 13,
   "id": "e83e61b3",
   "metadata": {},
   "outputs": [],
   "source": [
    "inputString = \"172.00.254.1\""
   ]
  },
  {
   "cell_type": "code",
   "execution_count": 14,
   "id": "7a5c70a0",
   "metadata": {},
   "outputs": [
    {
     "name": "stdout",
     "output_type": "stream",
     "text": [
      "['172', '00', '254', '1']\n"
     ]
    },
    {
     "data": {
      "text/plain": [
       "False"
      ]
     },
     "execution_count": 14,
     "metadata": {},
     "output_type": "execute_result"
    }
   ],
   "source": [
    "solution(inputString)"
   ]
  },
  {
   "cell_type": "code",
   "execution_count": 32,
   "id": "d5d42356",
   "metadata": {},
   "outputs": [],
   "source": [
    "def solution(inputArray):\n",
    "    pos = 0\n",
    "    step = 1\n",
    "    while pos<=max(inputArray):\n",
    "        print(pos)\n",
    "        print('----------------')\n",
    "        if pos in inputArray:\n",
    "            print(pos, '+++++')\n",
    "            step+=1\n",
    "            print(step)\n",
    "            pos = 0\n",
    "        else:\n",
    "            pos += step\n",
    "    return step"
   ]
  },
  {
   "cell_type": "code",
   "execution_count": 33,
   "id": "b5082651",
   "metadata": {},
   "outputs": [],
   "source": [
    "inputArray = [5, 3, 6, 7, 9]"
   ]
  },
  {
   "cell_type": "code",
   "execution_count": 34,
   "id": "b55b43f7",
   "metadata": {},
   "outputs": [
    {
     "name": "stdout",
     "output_type": "stream",
     "text": [
      "0\n",
      "----------------\n",
      "1\n",
      "----------------\n",
      "2\n",
      "----------------\n",
      "3\n",
      "----------------\n",
      "3 +++++\n",
      "2\n",
      "0\n",
      "----------------\n",
      "2\n",
      "----------------\n",
      "4\n",
      "----------------\n",
      "6\n",
      "----------------\n",
      "6 +++++\n",
      "3\n",
      "0\n",
      "----------------\n",
      "3\n",
      "----------------\n",
      "3 +++++\n",
      "4\n",
      "0\n",
      "----------------\n",
      "4\n",
      "----------------\n",
      "8\n",
      "----------------\n"
     ]
    },
    {
     "data": {
      "text/plain": [
       "4"
      ]
     },
     "execution_count": 34,
     "metadata": {},
     "output_type": "execute_result"
    }
   ],
   "source": [
    "solution(inputArray)"
   ]
  },
  {
   "cell_type": "code",
   "execution_count": 44,
   "id": "28dc0ecf",
   "metadata": {},
   "outputs": [],
   "source": [
    "def pixel(matrix,i,j):\n",
    "    total = 0\n",
    "    for x in range(i-1,i+2):\n",
    "        for y in range(j-1,j+2):\n",
    "            total += matrix[x][y]\n",
    "            #print(total)\n",
    "    return total//9\n",
    "def solution(image):\n",
    "    sol = []\n",
    "    row = len(image)\n",
    "    col = len(image[0])\n",
    "    for i in range(1,row-1):\n",
    "        temp = []\n",
    "        for j in range(1,col-1):\n",
    "            temp.append(pixel(image,i,j))\n",
    "            print(temp, '++++++')\n",
    "        sol.append(temp)\n",
    "        print(sol, '________')\n",
    "    \n",
    "    return sol"
   ]
  },
  {
   "cell_type": "code",
   "execution_count": 45,
   "id": "67504e12",
   "metadata": {},
   "outputs": [],
   "source": [
    "image = [[7, 4, 0, 1], \n",
    "         [5, 6, 2, 2], \n",
    "         [6, 10, 7, 8], \n",
    "         [1, 4, 2, 0]]"
   ]
  },
  {
   "cell_type": "code",
   "execution_count": 46,
   "id": "40bb813b",
   "metadata": {},
   "outputs": [
    {
     "name": "stdout",
     "output_type": "stream",
     "text": [
      "[5] ++++++\n",
      "[5, 4] ++++++\n",
      "[[5, 4]] ________\n",
      "[4] ++++++\n",
      "[4, 4] ++++++\n",
      "[[5, 4], [4, 4]] ________\n"
     ]
    },
    {
     "data": {
      "text/plain": [
       "[[5, 4], [4, 4]]"
      ]
     },
     "execution_count": 46,
     "metadata": {},
     "output_type": "execute_result"
    }
   ],
   "source": [
    "solution(image)"
   ]
  },
  {
   "cell_type": "code",
   "execution_count": 70,
   "id": "f3147d2a",
   "metadata": {},
   "outputs": [],
   "source": [
    "true = True  # or \"true\"\n",
    "false = False  # or \"false\"\n",
    "def solution(matrix):\n",
    "    row = len(matrix)\n",
    "    column = len(matrix[0])\n",
    "    answer = [[0 for i in range(column)] for j in range(row)]\n",
    "    pad_matrix = [[0 for i in range(column+2)] for j in range(row+2)] \n",
    "\n",
    "    for i in range(row):\n",
    "        for j in range(column):\n",
    "            pad_matrix[i+1][j+1] = matrix[i][j]\n",
    "    print(pad_matrix)\n",
    "            \n",
    "\n",
    "    for x in range(row):\n",
    "        for y in range(column):\n",
    "            answer[x][y] = pad_matrix[x][y] + pad_matrix[x][y+1] + pad_matrix[x][y+2] + \n",
    "            pad_matrix[x+1][y] + pad_matrix[x+1][y+2] + pad_matrix[x+2][y] + \n",
    "            pad_matrix[x+2][y+1]+ pad_matrix[x+2][y+2]\n",
    "            print(answer)\n",
    "    return answer"
   ]
  },
  {
   "cell_type": "code",
   "execution_count": 71,
   "id": "0650a0a4",
   "metadata": {},
   "outputs": [],
   "source": [
    "matrix = [[true, false, false],\n",
    "          [false, true, false],\n",
    "          [false, false, false]]"
   ]
  },
  {
   "cell_type": "code",
   "execution_count": 72,
   "id": "c168043c",
   "metadata": {},
   "outputs": [
    {
     "name": "stdout",
     "output_type": "stream",
     "text": [
      "[[0, 0, 0, 0, 0], [0, True, False, False, 0], [0, False, True, False, 0], [0, False, False, False, 0], [0, 0, 0, 0, 0]]\n",
      "[[1, 0, 0], [0, 0, 0], [0, 0, 0]]\n",
      "[[1, 2, 0], [0, 0, 0], [0, 0, 0]]\n",
      "[[1, 2, 1], [0, 0, 0], [0, 0, 0]]\n",
      "[[1, 2, 1], [2, 0, 0], [0, 0, 0]]\n",
      "[[1, 2, 1], [2, 1, 0], [0, 0, 0]]\n",
      "[[1, 2, 1], [2, 1, 1], [0, 0, 0]]\n",
      "[[1, 2, 1], [2, 1, 1], [1, 0, 0]]\n",
      "[[1, 2, 1], [2, 1, 1], [1, 1, 0]]\n",
      "[[1, 2, 1], [2, 1, 1], [1, 1, 1]]\n"
     ]
    },
    {
     "data": {
      "text/plain": [
       "[[1, 2, 1], [2, 1, 1], [1, 1, 1]]"
      ]
     },
     "execution_count": 72,
     "metadata": {},
     "output_type": "execute_result"
    }
   ],
   "source": [
    "solution(matrix)"
   ]
  },
  {
   "cell_type": "code",
   "execution_count": 73,
   "id": "c6da1060",
   "metadata": {},
   "outputs": [
    {
     "name": "stdout",
     "output_type": "stream",
     "text": [
      "2\n"
     ]
    }
   ],
   "source": [
    "print(True+True)"
   ]
  },
  {
   "cell_type": "code",
   "execution_count": null,
   "id": "f49473a2",
   "metadata": {},
   "outputs": [],
   "source": [
    "def solution(inputArray, elemToReplace, substitutionElem):\n",
    "    for i in range(len(inputArray)):\n",
    "        if inputArray[i] == elemToReplace:\n",
    "           inputArray[i] = substitutionElem\n",
    "    return inputArray"
   ]
  },
  {
   "cell_type": "code",
   "execution_count": 80,
   "id": "1ec0a17f",
   "metadata": {},
   "outputs": [],
   "source": [
    "def solution(n):\n",
    "    while n > 0:\n",
    "        if not n % 2 == 0:\n",
    "            return False\n",
    "        else:\n",
    "            n //= 10\n",
    "    return True\n"
   ]
  },
  {
   "cell_type": "code",
   "execution_count": 81,
   "id": "60f2176b",
   "metadata": {},
   "outputs": [],
   "source": [
    "n = 642386"
   ]
  },
  {
   "cell_type": "code",
   "execution_count": 82,
   "id": "66ac8b0e",
   "metadata": {},
   "outputs": [
    {
     "name": "stdout",
     "output_type": "stream",
     "text": [
      "64238\n",
      "6423\n",
      "1\n"
     ]
    },
    {
     "data": {
      "text/plain": [
       "False"
      ]
     },
     "execution_count": 82,
     "metadata": {},
     "output_type": "execute_result"
    }
   ],
   "source": [
    "solution(n)"
   ]
  },
  {
   "cell_type": "code",
   "execution_count": 86,
   "id": "661de411",
   "metadata": {},
   "outputs": [],
   "source": [
    "def solution(name):\n",
    "    answer = []\n",
    "    for i in range(len(name)):\n",
    "        if name[0].isdigit():\n",
    "            answer.append(False)\n",
    "        else:\n",
    "            if name[i].isalpha() or name[i] == \"_\":\n",
    "                answer.append(True)\n",
    "            elif name[i].isdigit():\n",
    "                answer.append(True)\n",
    "            else:\n",
    "                answer.append(False)\n",
    "    return all(answer)"
   ]
  },
  {
   "cell_type": "code",
   "execution_count": 87,
   "id": "26dcd701",
   "metadata": {},
   "outputs": [],
   "source": [
    "name = \"2w2\""
   ]
  },
  {
   "cell_type": "code",
   "execution_count": 88,
   "id": "33f24c00",
   "metadata": {},
   "outputs": [
    {
     "name": "stdout",
     "output_type": "stream",
     "text": [
      "range(0, 3)\n"
     ]
    },
    {
     "data": {
      "text/plain": [
       "False"
      ]
     },
     "execution_count": 88,
     "metadata": {},
     "output_type": "execute_result"
    }
   ],
   "source": [
    "solution(name)"
   ]
  },
  {
   "cell_type": "code",
   "execution_count": 89,
   "id": "266244a0",
   "metadata": {},
   "outputs": [],
   "source": [
    "def solution(inputString):\n",
    "    answer = \"\"\n",
    "\n",
    "    for i in inputString:\n",
    "        if i == \"z\":\n",
    "            answer += \"a\"\n",
    "        else:\n",
    "            answer += chr(ord(i)+1)\n",
    "    return answer"
   ]
  },
  {
   "cell_type": "code",
   "execution_count": 90,
   "id": "caf1b7a9",
   "metadata": {},
   "outputs": [],
   "source": [
    "inputString = \"crazy\""
   ]
  },
  {
   "cell_type": "code",
   "execution_count": 91,
   "id": "e90a1cc6",
   "metadata": {},
   "outputs": [
    {
     "data": {
      "text/plain": [
       "'dsbaz'"
      ]
     },
     "execution_count": 91,
     "metadata": {},
     "output_type": "execute_result"
    }
   ],
   "source": [
    "solution(inputString)"
   ]
  },
  {
   "cell_type": "code",
   "execution_count": 95,
   "id": "d17f3a57",
   "metadata": {},
   "outputs": [],
   "source": [
    "def solution(cell1, cell2):\n",
    "    print(ord(cell1[0]))\n",
    "    print(ord(cell2[0]))\n",
    "    if (ord(cell1[0]) + int(cell1[1]) + ord(cell2[0]) + int(cell2[1]))% 2 == 0:\n",
    "        return True\n",
    "    else:\n",
    "        return False"
   ]
  },
  {
   "cell_type": "code",
   "execution_count": 96,
   "id": "1e006d2c",
   "metadata": {},
   "outputs": [],
   "source": [
    "cell1 = \"A1\"\n",
    "cell2 = \"H3\""
   ]
  },
  {
   "cell_type": "code",
   "execution_count": 97,
   "id": "d124f611",
   "metadata": {},
   "outputs": [
    {
     "name": "stdout",
     "output_type": "stream",
     "text": [
      "65\n",
      "72\n"
     ]
    },
    {
     "data": {
      "text/plain": [
       "False"
      ]
     },
     "execution_count": 97,
     "metadata": {},
     "output_type": "execute_result"
    }
   ],
   "source": [
    "solution(cell1, cell2)"
   ]
  },
  {
   "cell_type": "code",
   "execution_count": 98,
   "id": "ca04e2b1",
   "metadata": {},
   "outputs": [],
   "source": [
    "def solution(n, firstNumber):\n",
    "    #return firstNumber+n//2 if firstNumber+n//2 < n else firstNumber+n//2 - n\n",
    "    if firstNumber +n//2 <n:\n",
    "        return firstNumber +n//2\n",
    "    else:\n",
    "        return firstNumber +n//2 -n"
   ]
  },
  {
   "cell_type": "code",
   "execution_count": 99,
   "id": "c1636cb6",
   "metadata": {},
   "outputs": [],
   "source": [
    "n = 10\n",
    "firstNumber = 2"
   ]
  },
  {
   "cell_type": "code",
   "execution_count": 100,
   "id": "1208428a",
   "metadata": {},
   "outputs": [
    {
     "data": {
      "text/plain": [
       "7"
      ]
     },
     "execution_count": 100,
     "metadata": {},
     "output_type": "execute_result"
    }
   ],
   "source": [
    "solution(n, firstNumber)"
   ]
  },
  {
   "cell_type": "code",
   "execution_count": 101,
   "id": "71c2b1bd",
   "metadata": {},
   "outputs": [],
   "source": [
    "def solution(deposit, rate, threshold):\n",
    "    year = 0\n",
    "    while deposit < threshold:\n",
    "        deposit *= (1+rate/100)\n",
    "        year += 1\n",
    "    return year"
   ]
  },
  {
   "cell_type": "code",
   "execution_count": 102,
   "id": "867dc95a",
   "metadata": {},
   "outputs": [],
   "source": [
    "deposit = 100\n",
    "rate = 20\n",
    "threshold = 170"
   ]
  },
  {
   "cell_type": "code",
   "execution_count": 103,
   "id": "9ba00b87",
   "metadata": {},
   "outputs": [
    {
     "data": {
      "text/plain": [
       "3"
      ]
     },
     "execution_count": 103,
     "metadata": {},
     "output_type": "execute_result"
    }
   ],
   "source": [
    "solution(deposit, rate, threshold)"
   ]
  },
  {
   "cell_type": "code",
   "execution_count": 113,
   "id": "10c2e546",
   "metadata": {},
   "outputs": [],
   "source": [
    "def solution(a):\n",
    "    result = list()\n",
    "    for i in range(len(a)):\n",
    "        sum = 0\n",
    "        for j in range(len(a)):\n",
    "            sum += abs(a[i]-a[j])\n",
    "            print(sum)\n",
    "        print(\"---------\")\n",
    "        result.append(sum)\n",
    "    print(result)\n",
    "    print(min(result))\n",
    "    print(result.index(5))\n",
    "    return a[result.index(min(result))]"
   ]
  },
  {
   "cell_type": "code",
   "execution_count": 114,
   "id": "a266fefe",
   "metadata": {},
   "outputs": [],
   "source": [
    "a = [2, 4, 7]"
   ]
  },
  {
   "cell_type": "code",
   "execution_count": 115,
   "id": "68bcd8c7",
   "metadata": {},
   "outputs": [
    {
     "name": "stdout",
     "output_type": "stream",
     "text": [
      "0\n",
      "2\n",
      "7\n",
      "---------\n",
      "2\n",
      "2\n",
      "5\n",
      "---------\n",
      "5\n",
      "8\n",
      "8\n",
      "---------\n",
      "[7, 5, 8]\n",
      "5\n",
      "1\n"
     ]
    },
    {
     "data": {
      "text/plain": [
       "4"
      ]
     },
     "execution_count": 115,
     "metadata": {},
     "output_type": "execute_result"
    }
   ],
   "source": [
    "solution(a)"
   ]
  },
  {
   "cell_type": "code",
   "execution_count": 120,
   "id": "e122905e",
   "metadata": {},
   "outputs": [],
   "source": [
    "import itertools\n",
    "def solution(inputArray):\n",
    "    E = list(itertools.permutations(inputArray))\n",
    "    print(E)\n",
    "    for array in E:\n",
    "        c = 0\n",
    "        for i in range(len(array) - 1):\n",
    "            A = array[i][:]\n",
    "            B = array[i + 1][:]\n",
    "            C = [A[x] != B[x] for x in range(len(A))]\n",
    "            print(A)\n",
    "            print(B)\n",
    "            print(C)\n",
    "            if sum(C) >= 2 or sum(C) == 0:\n",
    "                continue\n",
    "            else:\n",
    "                c += 1\n",
    "            if c == len(array) - 1:\n",
    "                return True\n",
    "    return False "
   ]
  },
  {
   "cell_type": "code",
   "execution_count": 121,
   "id": "fbc02cc1",
   "metadata": {},
   "outputs": [],
   "source": [
    "inputArray = [\"aba\", \"bbb\", \"bab\"]"
   ]
  },
  {
   "cell_type": "code",
   "execution_count": 122,
   "id": "352cf30c",
   "metadata": {},
   "outputs": [
    {
     "name": "stdout",
     "output_type": "stream",
     "text": [
      "[('aba', 'bbb', 'bab'), ('aba', 'bab', 'bbb'), ('bbb', 'aba', 'bab'), ('bbb', 'bab', 'aba'), ('bab', 'aba', 'bbb'), ('bab', 'bbb', 'aba')]\n",
      "aba\n",
      "bbb\n",
      "[True, False, True]\n",
      "bbb\n",
      "bab\n",
      "[False, True, False]\n",
      "aba\n",
      "bab\n",
      "[True, True, True]\n",
      "bab\n",
      "bbb\n",
      "[False, True, False]\n",
      "bbb\n",
      "aba\n",
      "[True, False, True]\n",
      "aba\n",
      "bab\n",
      "[True, True, True]\n",
      "bbb\n",
      "bab\n",
      "[False, True, False]\n",
      "bab\n",
      "aba\n",
      "[True, True, True]\n",
      "bab\n",
      "aba\n",
      "[True, True, True]\n",
      "aba\n",
      "bbb\n",
      "[True, False, True]\n",
      "bab\n",
      "bbb\n",
      "[False, True, False]\n",
      "bbb\n",
      "aba\n",
      "[True, False, True]\n"
     ]
    },
    {
     "data": {
      "text/plain": [
       "False"
      ]
     },
     "execution_count": 122,
     "metadata": {},
     "output_type": "execute_result"
    }
   ],
   "source": [
    "solution(inputArray)"
   ]
  },
  {
   "cell_type": "code",
   "execution_count": 147,
   "id": "65ca1e85",
   "metadata": {},
   "outputs": [],
   "source": [
    "from itertools import permutations as p\n",
    "def solution(inputArray):\n",
    "    print(list(p(inputArray)))\n",
    "    for ia in p(inputArray):\n",
    "        c = 0\n",
    "        for i in range(len(ia) - 1):\n",
    "            for j in range(len(ia[i])):\n",
    "                print(ia[i])\n",
    "                print(ia[i][j])\n",
    "                print(\"__________\")\n",
    "                print(ia[i+1][j])\n",
    "                print(\"+++++++++++\")\n",
    "                if ia[i][j] != ia[i+1][j]: c += 1\n",
    "            print(c)\n",
    "            if ia[i] == ia[i+1]: c += 10\n",
    "        if c == len(ia) - 1: return True\n",
    "    return False  "
   ]
  },
  {
   "cell_type": "code",
   "execution_count": 148,
   "id": "b1bca85a",
   "metadata": {},
   "outputs": [],
   "source": [
    "inputArray = [\"aba\", \"bbb\", \"bab\"]"
   ]
  },
  {
   "cell_type": "code",
   "execution_count": 149,
   "id": "a254721d",
   "metadata": {},
   "outputs": [
    {
     "name": "stdout",
     "output_type": "stream",
     "text": [
      "[('aba', 'bbb', 'bab'), ('aba', 'bab', 'bbb'), ('bbb', 'aba', 'bab'), ('bbb', 'bab', 'aba'), ('bab', 'aba', 'bbb'), ('bab', 'bbb', 'aba')]\n",
      "aba\n",
      "a\n",
      "__________\n",
      "b\n",
      "+++++++++++\n",
      "aba\n",
      "b\n",
      "__________\n",
      "b\n",
      "+++++++++++\n",
      "aba\n",
      "a\n",
      "__________\n",
      "b\n",
      "+++++++++++\n",
      "2\n",
      "bbb\n",
      "b\n",
      "__________\n",
      "b\n",
      "+++++++++++\n",
      "bbb\n",
      "b\n",
      "__________\n",
      "a\n",
      "+++++++++++\n",
      "bbb\n",
      "b\n",
      "__________\n",
      "b\n",
      "+++++++++++\n",
      "3\n",
      "aba\n",
      "a\n",
      "__________\n",
      "b\n",
      "+++++++++++\n",
      "aba\n",
      "b\n",
      "__________\n",
      "a\n",
      "+++++++++++\n",
      "aba\n",
      "a\n",
      "__________\n",
      "b\n",
      "+++++++++++\n",
      "3\n",
      "bab\n",
      "b\n",
      "__________\n",
      "b\n",
      "+++++++++++\n",
      "bab\n",
      "a\n",
      "__________\n",
      "b\n",
      "+++++++++++\n",
      "bab\n",
      "b\n",
      "__________\n",
      "b\n",
      "+++++++++++\n",
      "4\n",
      "bbb\n",
      "b\n",
      "__________\n",
      "a\n",
      "+++++++++++\n",
      "bbb\n",
      "b\n",
      "__________\n",
      "b\n",
      "+++++++++++\n",
      "bbb\n",
      "b\n",
      "__________\n",
      "a\n",
      "+++++++++++\n",
      "2\n",
      "aba\n",
      "a\n",
      "__________\n",
      "b\n",
      "+++++++++++\n",
      "aba\n",
      "b\n",
      "__________\n",
      "a\n",
      "+++++++++++\n",
      "aba\n",
      "a\n",
      "__________\n",
      "b\n",
      "+++++++++++\n",
      "5\n",
      "bbb\n",
      "b\n",
      "__________\n",
      "b\n",
      "+++++++++++\n",
      "bbb\n",
      "b\n",
      "__________\n",
      "a\n",
      "+++++++++++\n",
      "bbb\n",
      "b\n",
      "__________\n",
      "b\n",
      "+++++++++++\n",
      "1\n",
      "bab\n",
      "b\n",
      "__________\n",
      "a\n",
      "+++++++++++\n",
      "bab\n",
      "a\n",
      "__________\n",
      "b\n",
      "+++++++++++\n",
      "bab\n",
      "b\n",
      "__________\n",
      "a\n",
      "+++++++++++\n",
      "4\n",
      "bab\n",
      "b\n",
      "__________\n",
      "a\n",
      "+++++++++++\n",
      "bab\n",
      "a\n",
      "__________\n",
      "b\n",
      "+++++++++++\n",
      "bab\n",
      "b\n",
      "__________\n",
      "a\n",
      "+++++++++++\n",
      "3\n",
      "aba\n",
      "a\n",
      "__________\n",
      "b\n",
      "+++++++++++\n",
      "aba\n",
      "b\n",
      "__________\n",
      "b\n",
      "+++++++++++\n",
      "aba\n",
      "a\n",
      "__________\n",
      "b\n",
      "+++++++++++\n",
      "5\n",
      "bab\n",
      "b\n",
      "__________\n",
      "b\n",
      "+++++++++++\n",
      "bab\n",
      "a\n",
      "__________\n",
      "b\n",
      "+++++++++++\n",
      "bab\n",
      "b\n",
      "__________\n",
      "b\n",
      "+++++++++++\n",
      "1\n",
      "bbb\n",
      "b\n",
      "__________\n",
      "a\n",
      "+++++++++++\n",
      "bbb\n",
      "b\n",
      "__________\n",
      "b\n",
      "+++++++++++\n",
      "bbb\n",
      "b\n",
      "__________\n",
      "a\n",
      "+++++++++++\n",
      "3\n"
     ]
    },
    {
     "data": {
      "text/plain": [
       "False"
      ]
     },
     "execution_count": 149,
     "metadata": {},
     "output_type": "execute_result"
    }
   ],
   "source": [
    "solution(inputArray)"
   ]
  },
  {
   "cell_type": "code",
   "execution_count": 165,
   "id": "ee9c3e34",
   "metadata": {},
   "outputs": [],
   "source": [
    "def solution(inputArray, k):\n",
    "    for i in range(len(inputArray)-1, -1, -1):\n",
    "        if i % k == k-1:\n",
    "            print(\"________\")\n",
    "            print(i)\n",
    "            print(i%k)\n",
    "            print(k-1)\n",
    "            del inputArray[i]\n",
    "    return inputArray"
   ]
  },
  {
   "cell_type": "code",
   "execution_count": 166,
   "id": "6bb03351",
   "metadata": {},
   "outputs": [],
   "source": [
    "inputArray = [1, 2, 3, 4, 5, 6, 7, 8, 9, 10]\n",
    "k = 3"
   ]
  },
  {
   "cell_type": "code",
   "execution_count": 167,
   "id": "1a6c22b8",
   "metadata": {},
   "outputs": [
    {
     "name": "stdout",
     "output_type": "stream",
     "text": [
      "________\n",
      "8\n",
      "2\n",
      "2\n",
      "________\n",
      "5\n",
      "2\n",
      "2\n",
      "________\n",
      "2\n",
      "2\n",
      "2\n"
     ]
    },
    {
     "data": {
      "text/plain": [
       "[1, 2, 4, 5, 7, 8, 10]"
      ]
     },
     "execution_count": 167,
     "metadata": {},
     "output_type": "execute_result"
    }
   ],
   "source": [
    "solution(inputArray, k)"
   ]
  },
  {
   "cell_type": "code",
   "execution_count": 187,
   "id": "aeb10026",
   "metadata": {},
   "outputs": [],
   "source": [
    "def solution(inputArray, k):\n",
    "    max_sum = sum(inputArray[:k])\n",
    "    prev_sum = max_sum\n",
    "    for i in range(k, len(inputArray)):\n",
    "        prev_sum = prev_sum - inputArray[i-k]+inputArray[i]\n",
    "        max_sum = max(max_sum, prev_sum)\n",
    "    return max_sum"
   ]
  },
  {
   "cell_type": "code",
   "execution_count": 188,
   "id": "b3d94761",
   "metadata": {},
   "outputs": [],
   "source": [
    "inputArray = [2, 3, 5, 1, 6]\n",
    "k = 2"
   ]
  },
  {
   "cell_type": "code",
   "execution_count": 189,
   "id": "bcd2e1b5",
   "metadata": {},
   "outputs": [
    {
     "name": "stdout",
     "output_type": "stream",
     "text": [
      "2\n",
      "2\n",
      "3\n",
      "2\n",
      "4\n",
      "2\n"
     ]
    },
    {
     "data": {
      "text/plain": [
       "8"
      ]
     },
     "execution_count": 189,
     "metadata": {},
     "output_type": "execute_result"
    }
   ],
   "source": [
    "solution(inputArray, k)"
   ]
  },
  {
   "cell_type": "code",
   "execution_count": 197,
   "id": "ca3358b2",
   "metadata": {},
   "outputs": [],
   "source": [
    "def solution(upSpeed, downSpeed, desiredHeight):\n",
    "    count_day = 0\n",
    "    height = 0\n",
    "    while height < desiredHeight:\n",
    "        height = height+upSpeed\n",
    "        count_day+=1\n",
    "        if height > desiredHeight:\n",
    "            break\n",
    "        height-=downSpeed\n",
    "    return count_day"
   ]
  },
  {
   "cell_type": "code",
   "execution_count": 198,
   "id": "28e58bfe",
   "metadata": {},
   "outputs": [],
   "source": [
    "upSpeed = 10\n",
    "downSpeed = 9\n",
    "desiredHeight = 4"
   ]
  },
  {
   "cell_type": "code",
   "execution_count": 199,
   "id": "37dc01d4",
   "metadata": {},
   "outputs": [
    {
     "data": {
      "text/plain": [
       "1"
      ]
     },
     "execution_count": 199,
     "metadata": {},
     "output_type": "execute_result"
    }
   ],
   "source": [
    "solution(upSpeed, downSpeed, desiredHeight)"
   ]
  },
  {
   "cell_type": "code",
   "execution_count": 194,
   "id": "ea2d7901",
   "metadata": {},
   "outputs": [],
   "source": [
    "def growingplant(upSpeed, downSpeed, desiredHeight):\n",
    "    height = 0\n",
    "    count_day = 0\n",
    "    \n",
    "    while True:\n",
    "        height +=upSpeed\n",
    "        count_day +=1\n",
    "        if height >=desiredHeight:\n",
    "            break\n",
    "        height -= downSpeed\n",
    "    return count_day"
   ]
  },
  {
   "cell_type": "code",
   "execution_count": 195,
   "id": "9994dbb4",
   "metadata": {},
   "outputs": [],
   "source": [
    "upSpeed = 10\n",
    "downSpeed = 9\n",
    "desiredHeight = 4"
   ]
  },
  {
   "cell_type": "code",
   "execution_count": 196,
   "id": "f9346d10",
   "metadata": {},
   "outputs": [
    {
     "data": {
      "text/plain": [
       "1"
      ]
     },
     "execution_count": 196,
     "metadata": {},
     "output_type": "execute_result"
    }
   ],
   "source": [
    "growingplant(upSpeed, downSpeed, desiredHeight)"
   ]
  },
  {
   "cell_type": "code",
   "execution_count": 200,
   "id": "97e977d0",
   "metadata": {},
   "outputs": [],
   "source": [
    "def solution(value1, weight1, value2, weight2, maxW):\n",
    "    max_val = 0\n",
    "    if weight1 + weight2 <= maxW:\n",
    "        max_val = value1+value2\n",
    "    else:\n",
    "        if weight1 <=maxW and weight2 <=maxW:\n",
    "            max_val = max(value1, value2)\n",
    "        elif weight1 <=maxW:\n",
    "            max_val += value1\n",
    "        elif weight2 <= maxW:\n",
    "            max_val +=value2\n",
    "    return max_val"
   ]
  },
  {
   "cell_type": "code",
   "execution_count": 202,
   "id": "477073c3",
   "metadata": {},
   "outputs": [],
   "source": [
    "value1 = 10\n",
    "weight1 = 5\n",
    "value2 = 6\n",
    "weight2 = 4\n",
    "maxW = 8\n"
   ]
  },
  {
   "cell_type": "code",
   "execution_count": 203,
   "id": "07b5ae99",
   "metadata": {},
   "outputs": [
    {
     "data": {
      "text/plain": [
       "10"
      ]
     },
     "execution_count": 203,
     "metadata": {},
     "output_type": "execute_result"
    }
   ],
   "source": [
    "solution(value1, weight1, value2, weight2, maxW)"
   ]
  },
  {
   "cell_type": "code",
   "execution_count": 204,
   "id": "0312694f",
   "metadata": {},
   "outputs": [],
   "source": [
    "def solution(inputString):\n",
    "    string1 = \"\"\n",
    "    for i in inputString:\n",
    "        if i.isdigit():\n",
    "            string1+=i\n",
    "        else:\n",
    "             break\n",
    "    return string1"
   ]
  },
  {
   "cell_type": "code",
   "execution_count": 205,
   "id": "48d1b815",
   "metadata": {},
   "outputs": [],
   "source": [
    "inputString = \"123aa1\""
   ]
  },
  {
   "cell_type": "code",
   "execution_count": 206,
   "id": "322bc3f8",
   "metadata": {},
   "outputs": [
    {
     "data": {
      "text/plain": [
       "'123'"
      ]
     },
     "execution_count": 206,
     "metadata": {},
     "output_type": "execute_result"
    }
   ],
   "source": [
    "solution(inputString)"
   ]
  },
  {
   "cell_type": "code",
   "execution_count": 207,
   "id": "0877c746",
   "metadata": {},
   "outputs": [],
   "source": [
    "def solution(n):\n",
    "    count = 0\n",
    "    while len(str(n))!=1:\n",
    "        count+=1\n",
    "        sum_digit = 0\n",
    "        for digit in str(n):\n",
    "            sum_digit+= int(digit)\n",
    "        n = sum_digit\n",
    "    return count"
   ]
  },
  {
   "cell_type": "code",
   "execution_count": 208,
   "id": "31a953a0",
   "metadata": {},
   "outputs": [],
   "source": [
    "n = 100"
   ]
  },
  {
   "cell_type": "code",
   "execution_count": 209,
   "id": "4cffbfc8",
   "metadata": {},
   "outputs": [
    {
     "data": {
      "text/plain": [
       "1"
      ]
     },
     "execution_count": 209,
     "metadata": {},
     "output_type": "execute_result"
    }
   ],
   "source": [
    "solution(n)"
   ]
  },
  {
   "cell_type": "code",
   "execution_count": 210,
   "id": "adc32e4a",
   "metadata": {},
   "outputs": [],
   "source": [
    "def solution(bishop, pawn):\n",
    "    return abs(ord(bishop[0])-ord(pawn[0]))==abs(int(pawn[1])-int(bishop[1]))"
   ]
  },
  {
   "cell_type": "code",
   "execution_count": 211,
   "id": "aef7dd6c",
   "metadata": {},
   "outputs": [],
   "source": [
    "bishop = \"a1\"\n",
    "pawn = \"c3\""
   ]
  },
  {
   "cell_type": "code",
   "execution_count": 212,
   "id": "f00a61e4",
   "metadata": {},
   "outputs": [
    {
     "data": {
      "text/plain": [
       "True"
      ]
     },
     "execution_count": 212,
     "metadata": {},
     "output_type": "execute_result"
    }
   ],
   "source": [
    "solution(bishop, pawn)"
   ]
  },
  {
   "cell_type": "code",
   "execution_count": 220,
   "id": "3831eb33",
   "metadata": {},
   "outputs": [],
   "source": [
    "def solution(inputString):\n",
    "    temp_dict = dict()\n",
    "    alphabet = 'abcdefghijklmnopqrstuvwxyz'\n",
    "    \n",
    "    for char in alphabet:\n",
    "        temp_dict[char] = 0\n",
    "    for char in inputString:\n",
    "        #temp_dict[char] = temp_dict.get(char)+1\n",
    "        temp_dict[char] = temp_dict[char]+1\n",
    "    prev_val = temp_dict['a']\n",
    "    alphabet = 'bcdefghijklmnopqrstuvwxyz'\n",
    "    for char in alphabet:\n",
    "        if temp_dict[char] > prev_val:\n",
    "            return false\n",
    "        prev_val = temp_dict[char]\n",
    "    return True\n",
    "    "
   ]
  },
  {
   "cell_type": "code",
   "execution_count": 221,
   "id": "8f708da2",
   "metadata": {},
   "outputs": [],
   "source": [
    "inputString = \"bbbaacdafe\""
   ]
  },
  {
   "cell_type": "code",
   "execution_count": 222,
   "id": "0fed0372",
   "metadata": {},
   "outputs": [
    {
     "data": {
      "text/plain": [
       "True"
      ]
     },
     "execution_count": 222,
     "metadata": {},
     "output_type": "execute_result"
    }
   ],
   "source": [
    "solution(inputString)"
   ]
  },
  {
   "cell_type": "code",
   "execution_count": 226,
   "id": "91cf23a8",
   "metadata": {},
   "outputs": [],
   "source": [
    "def solution(address):\n",
    "    domain_part = []\n",
    "    for i in range(-1, -len(address)-1, -1):\n",
    "        if address[i]!='@':\n",
    "            domain_part.insert(0, address[i])\n",
    "            print(domain_part)\n",
    "        else:\n",
    "            break\n",
    "    return \"\".join(domain_part)"
   ]
  },
  {
   "cell_type": "code",
   "execution_count": 227,
   "id": "7de7b0c8",
   "metadata": {},
   "outputs": [],
   "source": [
    "address = \"prettyandsimple@example.com\""
   ]
  },
  {
   "cell_type": "code",
   "execution_count": 228,
   "id": "641a1b04",
   "metadata": {},
   "outputs": [
    {
     "name": "stdout",
     "output_type": "stream",
     "text": [
      "['m']\n",
      "['o', 'm']\n",
      "['c', 'o', 'm']\n",
      "['.', 'c', 'o', 'm']\n",
      "['e', '.', 'c', 'o', 'm']\n",
      "['l', 'e', '.', 'c', 'o', 'm']\n",
      "['p', 'l', 'e', '.', 'c', 'o', 'm']\n",
      "['m', 'p', 'l', 'e', '.', 'c', 'o', 'm']\n",
      "['a', 'm', 'p', 'l', 'e', '.', 'c', 'o', 'm']\n",
      "['x', 'a', 'm', 'p', 'l', 'e', '.', 'c', 'o', 'm']\n",
      "['e', 'x', 'a', 'm', 'p', 'l', 'e', '.', 'c', 'o', 'm']\n"
     ]
    },
    {
     "data": {
      "text/plain": [
       "'example.com'"
      ]
     },
     "execution_count": 228,
     "metadata": {},
     "output_type": "execute_result"
    }
   ],
   "source": [
    "solution(address)"
   ]
  },
  {
   "cell_type": "code",
   "execution_count": 241,
   "id": "4c96aa7f",
   "metadata": {},
   "outputs": [],
   "source": [
    "def solution(st):\n",
    "    for i in range(len(st)):\n",
    "        substring = st[i:]\n",
    "        print(substring)\n",
    "        if isPalindrom(substring):\n",
    "            print(isPalindrom(substring))\n",
    "            print(\"+++++++\")\n",
    "            nonPalindromString = st[:i]\n",
    "            print(nonPalindromString)\n",
    "            print(st)\n",
    "            return st+ nonPalindromString[::-1]\n",
    "def isPalindrom(st):\n",
    "    return st == st[::-1]"
   ]
  },
  {
   "cell_type": "code",
   "execution_count": 242,
   "id": "95747a47",
   "metadata": {},
   "outputs": [],
   "source": [
    "st = \"abcdc\""
   ]
  },
  {
   "cell_type": "code",
   "execution_count": 243,
   "id": "d96f4938",
   "metadata": {},
   "outputs": [
    {
     "name": "stdout",
     "output_type": "stream",
     "text": [
      "abcdc\n",
      "bcdc\n",
      "cdc\n",
      "True\n",
      "+++++++\n",
      "ab\n",
      "abcdc\n"
     ]
    },
    {
     "data": {
      "text/plain": [
       "'abcdcba'"
      ]
     },
     "execution_count": 243,
     "metadata": {},
     "output_type": "execute_result"
    }
   ],
   "source": [
    "solution(st)"
   ]
  },
  {
   "cell_type": "code",
   "execution_count": 244,
   "id": "d4d395b8",
   "metadata": {},
   "outputs": [],
   "source": [
    "def solution(votes, k):\n",
    "    count_winner = 0\n",
    "    max_vote = max(votes)\n",
    "    \n",
    "    if k ==0 and votes.count(max_vote)==1:\n",
    "        return 1\n",
    "    for vote in votes:\n",
    "        if (vote+k > max_vote):\n",
    "            count_winner +=1\n",
    "    return count_winner"
   ]
  },
  {
   "cell_type": "code",
   "execution_count": 245,
   "id": "ff9d5a03",
   "metadata": {},
   "outputs": [],
   "source": [
    "votes = [2, 3, 5, 2]\n",
    "k = 3"
   ]
  },
  {
   "cell_type": "code",
   "execution_count": 246,
   "id": "e58c8685",
   "metadata": {},
   "outputs": [
    {
     "data": {
      "text/plain": [
       "2"
      ]
     },
     "execution_count": 246,
     "metadata": {},
     "output_type": "execute_result"
    }
   ],
   "source": [
    "solution(votes, k)"
   ]
  },
  {
   "cell_type": "code",
   "execution_count": 252,
   "id": "8078ffaf",
   "metadata": {},
   "outputs": [],
   "source": [
    "def solution(inputString):\n",
    "    if '-' not in inputString:\n",
    "        return False\n",
    "    splitData = inputString.split('-')\n",
    "    \n",
    "    if len(splitData)!= 6:\n",
    "        return False\n",
    "    for data in splitData:\n",
    "        if len(data)!= 2:\n",
    "            return False\n",
    "        if not((ord('0')<=ord(data[0])<=ord('9'))or(ord('A')<=ord(data[0])<= ord('F'))):\n",
    "            return False\n",
    "        if not((ord('0')<=ord(data[1])<=ord('9'))or (ord('A')<=ord(data[1])<= ord('F'))):\n",
    "            return False\n",
    "        else:\n",
    "            continue\n",
    "    return True\n"
   ]
  },
  {
   "cell_type": "code",
   "execution_count": 253,
   "id": "3bd04ba6",
   "metadata": {},
   "outputs": [],
   "source": [
    "inputString = \"Z1-1B-63-84-45-E6\""
   ]
  },
  {
   "cell_type": "code",
   "execution_count": 254,
   "id": "9bec2417",
   "metadata": {},
   "outputs": [
    {
     "data": {
      "text/plain": [
       "False"
      ]
     },
     "execution_count": 254,
     "metadata": {},
     "output_type": "execute_result"
    }
   ],
   "source": [
    "solution(inputString)"
   ]
  },
  {
   "cell_type": "code",
   "execution_count": 260,
   "id": "05660a14",
   "metadata": {},
   "outputs": [],
   "source": [
    "def solution(s):\n",
    "    res = ''\n",
    "    count = 1\n",
    "    for i in range(len(s)-1):\n",
    "        #check for beginning to right before last element\n",
    "        if s[i]==s[i+1]:\n",
    "            count+=1\n",
    "        elif(s[i]!=s[i+1]) and count>=2:\n",
    "            res+= str(count)+s[i]\n",
    "            count = 1\n",
    "        elif(s[i]!=s[i+1]):\n",
    "            res+=s[i]\n",
    "            count = 1\n",
    "        \n",
    "        #check for the last element\n",
    "        if ((i+1)==len(s)-1) and (s[i]!=s[i+1]):\n",
    "            res +=s[i+1]\n",
    "        elif((i+1)==len(s)-1) and (s[i]==s[i+1]):\n",
    "            res += str(count) +s[i+1]\n",
    "    return res"
   ]
  },
  {
   "cell_type": "code",
   "execution_count": 261,
   "id": "068525e1",
   "metadata": {},
   "outputs": [],
   "source": [
    "s = \"aabbbb\""
   ]
  },
  {
   "cell_type": "code",
   "execution_count": 262,
   "id": "80e29dd0",
   "metadata": {},
   "outputs": [
    {
     "name": "stdout",
     "output_type": "stream",
     "text": [
      "2a\n"
     ]
    },
    {
     "data": {
      "text/plain": [
       "'2a4b'"
      ]
     },
     "execution_count": 262,
     "metadata": {},
     "output_type": "execute_result"
    }
   ],
   "source": [
    "solution(s)"
   ]
  },
  {
   "cell_type": "code",
   "execution_count": 263,
   "id": "61487861",
   "metadata": {},
   "outputs": [],
   "source": [
    "def solution(cell):\n",
    "    valid_count = 0\n",
    "    dirs = [(-2, -1), (-2, 1), (-1, -2), (-1, 2), (1, -2), (1, 2), (2, -1), (2, 1)]\n",
    "    for x, y in dirs:\n",
    "        if(97 <= ord(cell[0]) +x <= 104) and (1<=int(cell[1])+y <= 8):\n",
    "            valid_count+=1\n",
    "    return valid_count"
   ]
  },
  {
   "cell_type": "code",
   "execution_count": 264,
   "id": "2f93f7a6",
   "metadata": {},
   "outputs": [],
   "source": [
    "cell = 'c2'"
   ]
  },
  {
   "cell_type": "code",
   "execution_count": 265,
   "id": "d279327e",
   "metadata": {},
   "outputs": [
    {
     "data": {
      "text/plain": [
       "6"
      ]
     },
     "execution_count": 265,
     "metadata": {},
     "output_type": "execute_result"
    }
   ],
   "source": [
    "solution(cell)"
   ]
  },
  {
   "cell_type": "code",
   "execution_count": 276,
   "id": "96989cb8",
   "metadata": {},
   "outputs": [],
   "source": [
    "def solution(n):\n",
    "    n = str(n)\n",
    "    res = 0\n",
    "    for i in range(len(n)-1):\n",
    "        if int(n[i])< int(n[i+1]):\n",
    "              res = int(n[:i]+n[i+1:])\n",
    "              break\n",
    "    if res==0:\n",
    "        res = int(n[:-1])\n",
    "    return res"
   ]
  },
  {
   "cell_type": "code",
   "execution_count": 279,
   "id": "77bc15b4",
   "metadata": {},
   "outputs": [],
   "source": [
    "n = 222"
   ]
  },
  {
   "cell_type": "code",
   "execution_count": 280,
   "id": "d62d59bd",
   "metadata": {},
   "outputs": [
    {
     "data": {
      "text/plain": [
       "22"
      ]
     },
     "execution_count": 280,
     "metadata": {},
     "output_type": "execute_result"
    }
   ],
   "source": [
    "solution(n)"
   ]
  },
  {
   "cell_type": "code",
   "execution_count": 313,
   "id": "44d7217a",
   "metadata": {},
   "outputs": [],
   "source": [
    "def solution(text):\n",
    "    temp_list = []\n",
    "    word = ''\n",
    "    res = ''\n",
    "    \n",
    "    for char in text:\n",
    "        if char.isalpha() == False:\n",
    "            temp_list.append(word)\n",
    "            print(temp_list)\n",
    "            word = ''\n",
    "        if char.isalpha():\n",
    "            word += char\n",
    "    #add last word if it does not meet the any special character or space\n",
    "    temp_list.append(word)\n",
    "    #find maximum length word\n",
    "    for i in range(len(temp_list)):\n",
    "        if len(temp_list[i])> len(res):\n",
    "               res = temp_list[i]\n",
    "               \n",
    "    return res"
   ]
  },
  {
   "cell_type": "code",
   "execution_count": 314,
   "id": "dbeed422",
   "metadata": {},
   "outputs": [],
   "source": [
    "text = \"Ready,steady,go\""
   ]
  },
  {
   "cell_type": "code",
   "execution_count": 315,
   "id": "4af60c2e",
   "metadata": {},
   "outputs": [
    {
     "name": "stdout",
     "output_type": "stream",
     "text": [
      "['Ready']\n",
      "['Ready', 'steady']\n"
     ]
    },
    {
     "data": {
      "text/plain": [
       "'steady'"
      ]
     },
     "execution_count": 315,
     "metadata": {},
     "output_type": "execute_result"
    }
   ],
   "source": [
    "solution(text)"
   ]
  },
  {
   "cell_type": "code",
   "execution_count": 316,
   "id": "2cf5706d",
   "metadata": {},
   "outputs": [],
   "source": [
    "def solution(time):\n",
    "    time_list = time.split(\":\")\n",
    "    if int(time_list[0])<24 and int(time_list[0])>=00 and int(time_list[1])<60 and int(time_list[1])>=00:\n",
    "        return True\n",
    "    else:\n",
    "        return False"
   ]
  },
  {
   "cell_type": "code",
   "execution_count": null,
   "id": "9766df43",
   "metadata": {},
   "outputs": [],
   "source": [
    "def solution(time):\n",
    "    if (o<=int(time[:2]) <=23) and (o<=int(time[3:])<=59):\n",
    "        return True\n",
    "    return False"
   ]
  },
  {
   "cell_type": "code",
   "execution_count": 328,
   "id": "8a7625ec",
   "metadata": {},
   "outputs": [],
   "source": [
    "def solution(inputString):\n",
    "    total = 0\n",
    "    for i in inputString:\n",
    "        print(i)\n",
    "        if i.isdigit():\n",
    "            total+= int(i)\n",
    "    return total"
   ]
  },
  {
   "cell_type": "code",
   "execution_count": 329,
   "id": "2e07127d",
   "metadata": {},
   "outputs": [],
   "source": [
    "inputString = \"2 apples, 12 oranges\""
   ]
  },
  {
   "cell_type": "code",
   "execution_count": 330,
   "id": "3f659296",
   "metadata": {},
   "outputs": [
    {
     "name": "stdout",
     "output_type": "stream",
     "text": [
      "2\n",
      " \n",
      "a\n",
      "p\n",
      "p\n",
      "l\n",
      "e\n",
      "s\n",
      ",\n",
      " \n",
      "1\n",
      "2\n",
      " \n",
      "o\n",
      "r\n",
      "a\n",
      "n\n",
      "g\n",
      "e\n",
      "s\n"
     ]
    },
    {
     "data": {
      "text/plain": [
       "5"
      ]
     },
     "execution_count": 330,
     "metadata": {},
     "output_type": "execute_result"
    }
   ],
   "source": [
    "solution(inputString)"
   ]
  },
  {
   "cell_type": "code",
   "execution_count": 331,
   "id": "0ad261cc",
   "metadata": {},
   "outputs": [],
   "source": [
    "def solution(inputString):\n",
    "    number = ''\n",
    "    res = 0\n",
    "    for char in inputString:\n",
    "        if char.isdigit():\n",
    "            number+=char\n",
    "        if char.isdigit() == False and len(number)!=0:\n",
    "            res+=int(number)\n",
    "            number = ''\n",
    "    if len(number)!=0:\n",
    "        res+= int(number)\n",
    "    return res"
   ]
  },
  {
   "cell_type": "code",
   "execution_count": 332,
   "id": "f4527e17",
   "metadata": {},
   "outputs": [],
   "source": [
    "inputString = \"2 apples, 12 oranges\""
   ]
  },
  {
   "cell_type": "code",
   "execution_count": 333,
   "id": "d294a4c9",
   "metadata": {},
   "outputs": [
    {
     "data": {
      "text/plain": [
       "14"
      ]
     },
     "execution_count": 333,
     "metadata": {},
     "output_type": "execute_result"
    }
   ],
   "source": [
    "solution(inputString)"
   ]
  },
  {
   "cell_type": "code",
   "execution_count": 344,
   "id": "6b039be1",
   "metadata": {},
   "outputs": [],
   "source": [
    "def solution(matrix):\n",
    "    res_set = set()\n",
    "    temp_str=''\n",
    "    for i in range(len(matrix)-1):\n",
    "        for j in range(len(matrix[0])-1):\n",
    "            temp_str = str(matrix[i][j])+str(matrix[i][j+1])+str(matrix[i+1][j])+str(matrix[i+1][j+1])\n",
    "            res_set.add(temp_str)\n",
    "    return len(res_set)"
   ]
  },
  {
   "cell_type": "code",
   "execution_count": 342,
   "id": "773ec7f5",
   "metadata": {},
   "outputs": [],
   "source": [
    "matrix = [[1, 2, 1],\n",
    "          [2, 2, 2],\n",
    "          [2, 2, 2],\n",
    "          [1, 2, 3],\n",
    "          [2, 2, 1]]"
   ]
  },
  {
   "cell_type": "code",
   "execution_count": 343,
   "id": "4c34bf2c",
   "metadata": {},
   "outputs": [
    {
     "name": "stdout",
     "output_type": "stream",
     "text": [
      "{'1222'}\n",
      "{'2122', '1222'}\n",
      "{'2122', '2222', '1222'}\n",
      "{'2122', '2222', '1222'}\n",
      "{'2122', '2222', '1222', '2212'}\n",
      "{'2122', '2222', '1222', '2223', '2212'}\n",
      "{'2122', '2222', '1222', '2223', '2212'}\n",
      "{'2321', '2122', '2222', '1222', '2223', '2212'}\n",
      "{'2321', '2122', '2222', '1222', '2223', '2212'}\n"
     ]
    },
    {
     "data": {
      "text/plain": [
       "6"
      ]
     },
     "execution_count": 343,
     "metadata": {},
     "output_type": "execute_result"
    }
   ],
   "source": [
    "solution(matrix)"
   ]
  },
  {
   "cell_type": "code",
   "execution_count": 353,
   "id": "84cb2f75",
   "metadata": {},
   "outputs": [],
   "source": [
    "def solution(product):\n",
    "    for i in range(1, 10000):\n",
    "        number = str(i)\n",
    "        total = 1\n",
    "        for char in number:\n",
    "            total *=int(char)\n",
    "        if total == product:\n",
    "            return i\n",
    "    return -1"
   ]
  },
  {
   "cell_type": "code",
   "execution_count": 354,
   "id": "c039b086",
   "metadata": {},
   "outputs": [],
   "source": [
    "product = 12"
   ]
  },
  {
   "cell_type": "code",
   "execution_count": 350,
   "id": "b7086d48",
   "metadata": {},
   "outputs": [
    {
     "name": "stdout",
     "output_type": "stream",
     "text": [
      "1\n",
      "2\n",
      "3\n",
      "4\n",
      "5\n",
      "6\n",
      "7\n",
      "8\n",
      "9\n",
      "1\n",
      "0\n",
      "1\n",
      "1\n",
      "1\n",
      "2\n",
      "1\n",
      "3\n",
      "1\n",
      "4\n",
      "1\n",
      "5\n",
      "1\n",
      "6\n",
      "1\n",
      "7\n",
      "1\n",
      "8\n",
      "1\n",
      "9\n",
      "2\n",
      "0\n",
      "2\n",
      "2\n",
      "2\n",
      "4\n",
      "2\n",
      "6\n",
      "2\n",
      "8\n",
      "2\n",
      "10\n",
      "2\n",
      "12\n"
     ]
    },
    {
     "data": {
      "text/plain": [
       "26"
      ]
     },
     "execution_count": 350,
     "metadata": {},
     "output_type": "execute_result"
    }
   ],
   "source": [
    "solution(product)"
   ]
  },
  {
   "cell_type": "code",
   "execution_count": 364,
   "id": "8b510972",
   "metadata": {},
   "outputs": [],
   "source": [
    "def solution(names):\n",
    "    for i in range(len(names)):\n",
    "        if names[i] in names[:i]:\n",
    "            count = 1\n",
    "            while names[i]+\"(\"+str(count)+\")\" in names[:i]:\n",
    "                count+=1\n",
    "            names[i]+=\"(\"+str(count)+\")\"\n",
    "    return names"
   ]
  },
  {
   "cell_type": "code",
   "execution_count": 365,
   "id": "34bf188c",
   "metadata": {},
   "outputs": [],
   "source": [
    "names = [\"doc\", \"doc\", \"image\", \"doc(1)\", \"doc\"]"
   ]
  },
  {
   "cell_type": "code",
   "execution_count": 366,
   "id": "27091f74",
   "metadata": {},
   "outputs": [
    {
     "name": "stdout",
     "output_type": "stream",
     "text": [
      "['doc', 'doc(1)', 'image', 'doc(1)(1)']\n",
      "2\n"
     ]
    },
    {
     "data": {
      "text/plain": [
       "['doc', 'doc(1)', 'image', 'doc(1)(1)', 'doc(2)']"
      ]
     },
     "execution_count": 366,
     "metadata": {},
     "output_type": "execute_result"
    }
   ],
   "source": [
    "solution(names)"
   ]
  },
  {
   "cell_type": "code",
   "execution_count": 377,
   "id": "3e0f1da6",
   "metadata": {},
   "outputs": [],
   "source": [
    "def solution(code):\n",
    "    res = \"\"\n",
    "    for i in range(0, len(code), 8):\n",
    "        num = int(code[i:i+8], 2)\n",
    "        res+=chr(num)\n",
    "    return res"
   ]
  },
  {
   "cell_type": "code",
   "execution_count": 378,
   "id": "e9c61154",
   "metadata": {},
   "outputs": [],
   "source": [
    "code = \"010010000110010101101100011011000110111100100001\""
   ]
  },
  {
   "cell_type": "code",
   "execution_count": 379,
   "id": "9233193a",
   "metadata": {},
   "outputs": [
    {
     "name": "stdout",
     "output_type": "stream",
     "text": [
      "72\n",
      "101\n",
      "108\n",
      "108\n",
      "111\n",
      "33\n"
     ]
    },
    {
     "data": {
      "text/plain": [
       "'Hello!'"
      ]
     },
     "execution_count": 379,
     "metadata": {},
     "output_type": "execute_result"
    }
   ],
   "source": [
    "solution(code)"
   ]
  },
  {
   "cell_type": "code",
   "execution_count": 382,
   "id": "d61ba97e",
   "metadata": {},
   "outputs": [],
   "source": [
    "def solution(n):\n",
    "    matrix = [[0] * n for i in range(n)]\n",
    "    \n",
    "    dx, dy = [0, 1, 0, -1], [1, 0, -1, 0]\n",
    "    x, y, c = 0, -1, 1\n",
    "    \n",
    "    for i in range(n+n-1):\n",
    "        for j in range((n+n-i)//2):\n",
    "            x+=dx[i%4]\n",
    "            y+=dy[i%4]\n",
    "            matrix[x][y]=c\n",
    "            c+=1\n",
    "    return matrix"
   ]
  },
  {
   "cell_type": "code",
   "execution_count": 383,
   "id": "978b1631",
   "metadata": {},
   "outputs": [],
   "source": [
    "n = 4"
   ]
  },
  {
   "cell_type": "code",
   "execution_count": 384,
   "id": "37ca285f",
   "metadata": {},
   "outputs": [
    {
     "data": {
      "text/plain": [
       "[[1, 2, 3, 4], [12, 13, 14, 5], [11, 16, 15, 6], [10, 9, 8, 7]]"
      ]
     },
     "execution_count": 384,
     "metadata": {},
     "output_type": "execute_result"
    }
   ],
   "source": [
    "solution(n)"
   ]
  },
  {
   "cell_type": "code",
   "execution_count": 388,
   "id": "274ef366",
   "metadata": {},
   "outputs": [],
   "source": [
    "def solution(grid):\n",
    "    for row in range(len(grid)):\n",
    "        if ValidRow(grid, row)== False:\n",
    "            return False\n",
    "    for col in range(len(grid)):\n",
    "        if ValidCol(grid, col)== False:\n",
    "            return False\n",
    "    for rwo in range(0, len(grid), 3):\n",
    "        for col in range(0, len(grid), 3):\n",
    "            if ValidBox(grid, row, col)== False:\n",
    "                return False\n",
    "    return True\n",
    "def ValidRow(grid, row):\n",
    "    check_list=[]\n",
    "    for i in range(len(grid)):\n",
    "        if grid[row][i] in check_list:\n",
    "            return False\n",
    "        else:\n",
    "            check_list.append(grid[row[i]])\n",
    "    return True\n",
    "def ValidCol(grid, col):\n",
    "    check_list = []\n",
    "    for i in range(len(grid)):\n",
    "        if grid[i][col] in check_list:\n",
    "            return False\n",
    "        else:\n",
    "            check_list.append(grid[i][col])\n",
    "    return True\n",
    "\n",
    "def ValidBox(grid, startRow, startCol):\n",
    "    check_list = []\n",
    "    for row in range(3):\n",
    "        for col in range(3):\n",
    "            box_val = grid[startRow+row][startCol+col]\n",
    "            if box_val in check_list:\n",
    "                return False\n",
    "            else:\n",
    "                check_list.append(box_val)\n",
    "    return True"
   ]
  },
  {
   "cell_type": "code",
   "execution_count": 389,
   "id": "ef8388d4",
   "metadata": {},
   "outputs": [],
   "source": [
    "grid = [[1, 3, 2, 5, 4, 6, 9, 8, 7],\n",
    "        [4, 6, 5, 8, 7, 9, 3, 2, 1],\n",
    "        [7, 9, 8, 2, 1, 3, 6, 5, 4],\n",
    "        [9, 2, 1, 4, 3, 5, 8, 7, 6],\n",
    "        [3, 5, 4, 7, 6, 8, 2, 1, 9],\n",
    "        [6, 8, 7, 1, 9, 2, 5, 4, 3],\n",
    "        [5, 7, 6, 9, 8, 1, 4, 3, 2],\n",
    "        [2, 4, 3, 6, 5, 7, 1, 9, 8],\n",
    "        [8, 1, 9, 3, 2, 4, 7, 6, 5]]"
   ]
  },
  {
   "cell_type": "code",
   "execution_count": 390,
   "id": "23814152",
   "metadata": {},
   "outputs": [
    {
     "ename": "TypeError",
     "evalue": "'int' object is not subscriptable",
     "output_type": "error",
     "traceback": [
      "\u001b[0;31m---------------------------------------------------------------------------\u001b[0m",
      "\u001b[0;31mTypeError\u001b[0m                                 Traceback (most recent call last)",
      "\u001b[0;32m/var/folders/2n/8g4l63p5367fs7wwcc6sndvw0000gn/T/ipykernel_21488/627564207.py\u001b[0m in \u001b[0;36m<module>\u001b[0;34m\u001b[0m\n\u001b[0;32m----> 1\u001b[0;31m \u001b[0msolution\u001b[0m\u001b[0;34m(\u001b[0m\u001b[0mgrid\u001b[0m\u001b[0;34m)\u001b[0m\u001b[0;34m\u001b[0m\u001b[0;34m\u001b[0m\u001b[0m\n\u001b[0m",
      "\u001b[0;32m/var/folders/2n/8g4l63p5367fs7wwcc6sndvw0000gn/T/ipykernel_21488/513037792.py\u001b[0m in \u001b[0;36msolution\u001b[0;34m(grid)\u001b[0m\n\u001b[1;32m      1\u001b[0m \u001b[0;32mdef\u001b[0m \u001b[0msolution\u001b[0m\u001b[0;34m(\u001b[0m\u001b[0mgrid\u001b[0m\u001b[0;34m)\u001b[0m\u001b[0;34m:\u001b[0m\u001b[0;34m\u001b[0m\u001b[0;34m\u001b[0m\u001b[0m\n\u001b[1;32m      2\u001b[0m     \u001b[0;32mfor\u001b[0m \u001b[0mrow\u001b[0m \u001b[0;32min\u001b[0m \u001b[0mrange\u001b[0m\u001b[0;34m(\u001b[0m\u001b[0mlen\u001b[0m\u001b[0;34m(\u001b[0m\u001b[0mgrid\u001b[0m\u001b[0;34m)\u001b[0m\u001b[0;34m)\u001b[0m\u001b[0;34m:\u001b[0m\u001b[0;34m\u001b[0m\u001b[0;34m\u001b[0m\u001b[0m\n\u001b[0;32m----> 3\u001b[0;31m         \u001b[0;32mif\u001b[0m \u001b[0mValidRow\u001b[0m\u001b[0;34m(\u001b[0m\u001b[0mgrid\u001b[0m\u001b[0;34m,\u001b[0m \u001b[0mrow\u001b[0m\u001b[0;34m)\u001b[0m\u001b[0;34m==\u001b[0m \u001b[0;32mFalse\u001b[0m\u001b[0;34m:\u001b[0m\u001b[0;34m\u001b[0m\u001b[0;34m\u001b[0m\u001b[0m\n\u001b[0m\u001b[1;32m      4\u001b[0m             \u001b[0;32mreturn\u001b[0m \u001b[0;32mFalse\u001b[0m\u001b[0;34m\u001b[0m\u001b[0;34m\u001b[0m\u001b[0m\n\u001b[1;32m      5\u001b[0m     \u001b[0;32mfor\u001b[0m \u001b[0mcol\u001b[0m \u001b[0;32min\u001b[0m \u001b[0mrange\u001b[0m\u001b[0;34m(\u001b[0m\u001b[0mlen\u001b[0m\u001b[0;34m(\u001b[0m\u001b[0mgrid\u001b[0m\u001b[0;34m)\u001b[0m\u001b[0;34m)\u001b[0m\u001b[0;34m:\u001b[0m\u001b[0;34m\u001b[0m\u001b[0;34m\u001b[0m\u001b[0m\n",
      "\u001b[0;32m/var/folders/2n/8g4l63p5367fs7wwcc6sndvw0000gn/T/ipykernel_21488/513037792.py\u001b[0m in \u001b[0;36mValidRow\u001b[0;34m(grid, row)\u001b[0m\n\u001b[1;32m     17\u001b[0m             \u001b[0;32mreturn\u001b[0m \u001b[0;32mFalse\u001b[0m\u001b[0;34m\u001b[0m\u001b[0;34m\u001b[0m\u001b[0m\n\u001b[1;32m     18\u001b[0m         \u001b[0;32melse\u001b[0m\u001b[0;34m:\u001b[0m\u001b[0;34m\u001b[0m\u001b[0;34m\u001b[0m\u001b[0m\n\u001b[0;32m---> 19\u001b[0;31m             \u001b[0mcheck_list\u001b[0m\u001b[0;34m.\u001b[0m\u001b[0mappend\u001b[0m\u001b[0;34m(\u001b[0m\u001b[0mgrid\u001b[0m\u001b[0;34m[\u001b[0m\u001b[0mrow\u001b[0m\u001b[0;34m[\u001b[0m\u001b[0mi\u001b[0m\u001b[0;34m]\u001b[0m\u001b[0;34m]\u001b[0m\u001b[0;34m)\u001b[0m\u001b[0;34m\u001b[0m\u001b[0;34m\u001b[0m\u001b[0m\n\u001b[0m\u001b[1;32m     20\u001b[0m     \u001b[0;32mreturn\u001b[0m \u001b[0;32mTrue\u001b[0m\u001b[0;34m\u001b[0m\u001b[0;34m\u001b[0m\u001b[0m\n\u001b[1;32m     21\u001b[0m \u001b[0;32mdef\u001b[0m \u001b[0mValidCol\u001b[0m\u001b[0;34m(\u001b[0m\u001b[0mgrid\u001b[0m\u001b[0;34m,\u001b[0m \u001b[0mcol\u001b[0m\u001b[0;34m)\u001b[0m\u001b[0;34m:\u001b[0m\u001b[0;34m\u001b[0m\u001b[0;34m\u001b[0m\u001b[0m\n",
      "\u001b[0;31mTypeError\u001b[0m: 'int' object is not subscriptable"
     ]
    }
   ],
   "source": [
    "solution(grid)"
   ]
  },
  {
   "cell_type": "code",
   "execution_count": null,
   "id": "429a7ceb",
   "metadata": {},
   "outputs": [],
   "source": []
  }
 ],
 "metadata": {
  "kernelspec": {
   "display_name": "Python 3 (ipykernel)",
   "language": "python",
   "name": "python3"
  },
  "language_info": {
   "codemirror_mode": {
    "name": "ipython",
    "version": 3
   },
   "file_extension": ".py",
   "mimetype": "text/x-python",
   "name": "python",
   "nbconvert_exporter": "python",
   "pygments_lexer": "ipython3",
   "version": "3.9.7"
  }
 },
 "nbformat": 4,
 "nbformat_minor": 5
}
